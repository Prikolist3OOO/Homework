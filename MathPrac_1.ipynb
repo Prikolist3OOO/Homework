{
 "cells": [
  {
   "cell_type": "code",
   "execution_count": 1,
   "id": "22756828",
   "metadata": {},
   "outputs": [],
   "source": [
    "class Test:\n",
    "    @staticmethod\n",
    "    def assert_equals(a, b, *args, **kwargs):\n",
    "        assert a == b\n",
    "        print('Passed')"
   ]
  },
  {
   "cell_type": "code",
   "execution_count": 6,
   "id": "ba127076",
   "metadata": {},
   "outputs": [],
   "source": [
    "def interview(lst, tot):\n",
    "    s1=\"qualified\"\n",
    "    s2=\"disqualified\"\n",
    "    if len(lst) < 8:\n",
    "        return s2\n",
    "    for i in range(8):\n",
    "        if lst[i] > 5*((i-i%2)/2 + 1):\n",
    "            return s2\n",
    "    if tot > 120:\n",
    "        return s2\n",
    "    return s1"
   ]
  },
  {
   "cell_type": "code",
   "execution_count": 7,
   "id": "fc92fc15",
   "metadata": {},
   "outputs": [
    {
     "name": "stdout",
     "output_type": "stream",
     "text": [
      "Passed\n",
      "Passed\n",
      "Passed\n",
      "Passed\n",
      "Passed\n",
      "Passed\n",
      "Passed\n",
      "Passed\n",
      "Passed\n",
      "Passed\n"
     ]
    }
   ],
   "source": [
    "Test.assert_equals(interview([5, 5, 10, 10, 15, 15, 20, 20], 120), 'qualified')\n",
    "Test.assert_equals(interview([2, 3, 8, 6, 5, 12, 10, 18], 120), 'qualified')\n",
    "Test.assert_equals(interview([2, 3, 8, 6, 5, 12, 10, 18], 64), 'qualified')\n",
    "Test.assert_equals(interview([5, 5, 10, 10, 25, 15, 20, 20], 120), 'disqualified')\n",
    "Test.assert_equals(interview([5, 5, 10, 10, 15, 15, 20], 120), 'disqualified')\n",
    "Test.assert_equals(interview([5, 5, 10, 10, 15, 15, 20, 20], 130), 'disqualified')\n",
    "Test.assert_equals(interview([5, 5, 10, 10, 15, 20, 50], 160), 'disqualified')\n",
    "Test.assert_equals(interview([5, 5, 10, 10, 15, 15, 40], 120), 'disqualified')\n",
    "Test.assert_equals(interview([10, 10, 15, 15, 20, 20], 150), 'disqualified')\n",
    "Test.assert_equals(interview([5, 5, 10, 20, 15, 15, 20, 20], 140), 'disqualified')"
   ]
  },
  {
   "cell_type": "code",
   "execution_count": 8,
   "id": "2f55a136",
   "metadata": {},
   "outputs": [],
   "source": [
    "def arithmetic_operation(n):\n",
    "\ta,s,b=n.split()\n",
    "\tif s == '+':\n",
    "\t\treturn int(a) + int(b)\n",
    "\tif s == '-':\n",
    "\t\treturn int(a) - int(b)\n",
    "\tif s == '*':\n",
    "\t\treturn int(a) * int(b)\n",
    "\tif b == '0':\n",
    "\t\treturn -1\n",
    "\treturn int(a)//int(b)"
   ]
  },
  {
   "cell_type": "code",
   "execution_count": 9,
   "id": "1def1863",
   "metadata": {},
   "outputs": [
    {
     "name": "stdout",
     "output_type": "stream",
     "text": [
      "Passed\n",
      "Passed\n",
      "Passed\n",
      "Passed\n",
      "Passed\n",
      "Passed\n",
      "Passed\n",
      "Passed\n"
     ]
    }
   ],
   "source": [
    "Test.assert_equals(arithmetic_operation(\"12 + 12\"), 24)\n",
    "Test.assert_equals(arithmetic_operation(\"22 - 12\"), 10)\n",
    "Test.assert_equals(arithmetic_operation(\"100 * 12\"), 1200)\n",
    "Test.assert_equals(arithmetic_operation(\"120 // 10\"), 12)\n",
    "Test.assert_equals(arithmetic_operation(\"122 // 0\"), -1)\n",
    "Test.assert_equals(arithmetic_operation(\"10 * 20\"), 200)\n",
    "Test.assert_equals(arithmetic_operation(\"10 - 10\"), 0)\n",
    "Test.assert_equals(arithmetic_operation(\"10 - 12\"), -2)"
   ]
  },
  {
   "cell_type": "code",
   "execution_count": 10,
   "id": "197a3a14",
   "metadata": {},
   "outputs": [],
   "source": [
    "def flipping_bits(n):\n",
    "\tb = 0\n",
    "\tfor i in range(32):\n",
    "\t\tif n & 1 == 0:\n",
    "\t\t\tb = b + pow(2,i)\n",
    "\t\tn = n >> 1\n",
    "\treturn b"
   ]
  },
  {
   "cell_type": "code",
   "execution_count": 11,
   "id": "cb01fc8a",
   "metadata": {},
   "outputs": [
    {
     "name": "stdout",
     "output_type": "stream",
     "text": [
      "Passed\n",
      "Passed\n",
      "Passed\n",
      "Passed\n",
      "Passed\n",
      "Passed\n",
      "Passed\n"
     ]
    }
   ],
   "source": [
    "Test.assert_equals(flipping_bits(2147483647), 2147483648)\n",
    "Test.assert_equals(flipping_bits(1), 4294967294)\n",
    "Test.assert_equals(flipping_bits(0), 4294967295)\n",
    "Test.assert_equals(flipping_bits(802743475), 3492223820)\n",
    "Test.assert_equals(flipping_bits(35601423), 4259365872)\n",
    "Test.assert_equals(flipping_bits(123456), 4294843839)\n",
    "Test.assert_equals(flipping_bits(4), 4294967291)"
   ]
  },
  {
   "cell_type": "code",
   "execution_count": 12,
   "id": "67e31e88",
   "metadata": {},
   "outputs": [],
   "source": [
    "def is_disarium(n):\n",
    "\ts1 = str(n)\n",
    "\tprint(len(s1))\n",
    "\td = 0\n",
    "\tfor i in range(len(s1)):\n",
    "\t\td += pow(int(s1[i]),i+1) \n",
    "\t\ti+=1\n",
    "\tif d == n:\n",
    "\t return True\n",
    "\telse:\n",
    "\t\t\treturn False"
   ]
  },
  {
   "cell_type": "code",
   "execution_count": 13,
   "id": "6745b58f",
   "metadata": {},
   "outputs": [
    {
     "name": "stdout",
     "output_type": "stream",
     "text": [
      "1\n",
      "Passed\n",
      "2\n",
      "Passed\n",
      "3\n",
      "Passed\n",
      "3\n",
      "Passed\n",
      "3\n",
      "Passed\n",
      "3\n",
      "Passed\n",
      "1\n",
      "Passed\n",
      "3\n",
      "Passed\n",
      "3\n",
      "Passed\n",
      "2\n",
      "Passed\n",
      "3\n",
      "Passed\n",
      "3\n",
      "Passed\n"
     ]
    }
   ],
   "source": [
    "num_vector, res_vector = [\n",
    "  [6, 75, 135, 466, 372, 175, 1, 696, 876, 89, 518, 598],\n",
    "  [True, False, True, False, False, True, True, False, False, True, True, True]\n",
    "]\n",
    "for i, n in enumerate(num_vector): Test.assert_equals(is_disarium(n), res_vector[i])"
   ]
  },
  {
   "cell_type": "code",
   "execution_count": 14,
   "id": "f0f7c678",
   "metadata": {},
   "outputs": [],
   "source": [
    "def uncensor(txt, vowels):\n",
    "\tfor i in vowels:\n",
    "\t\ttxt = txt.replace('*',i, 1)\n",
    "\treturn txt"
   ]
  },
  {
   "cell_type": "code",
   "execution_count": 15,
   "id": "5fe7d736",
   "metadata": {},
   "outputs": [
    {
     "name": "stdout",
     "output_type": "stream",
     "text": [
      "Passed\n",
      "Passed\n",
      "Passed\n",
      "Passed\n",
      "Passed\n"
     ]
    }
   ],
   "source": [
    "Test.assert_equals(uncensor('Wh*r* d*d my v*w*ls g*?', 'eeioeo'), 'Where did my vowels go?')\n",
    "Test.assert_equals(uncensor('abcd', ''), 'abcd', 'Works with no vowels.')\n",
    "Test.assert_equals(uncensor('*PP*RC*S*', 'UEAE'), 'UPPERCASE', 'Works with uppercase')\n",
    "Test.assert_equals(uncensor('Ch**s*, Gr*mm*t -- ch**s*', 'eeeoieee'), 'Cheese, Grommit -- cheese', 'Works with * at the end')\n",
    "Test.assert_equals(uncensor('*l*ph*nt', 'Eea'), 'Elephant', 'Works with * at the start')"
   ]
  },
  {
   "cell_type": "code",
   "execution_count": null,
   "id": "12a7d789",
   "metadata": {},
   "outputs": [],
   "source": []
  }
 ],
 "metadata": {
  "kernelspec": {
   "display_name": "Python 3 (ipykernel)",
   "language": "python",
   "name": "python3"
  },
  "language_info": {
   "codemirror_mode": {
    "name": "ipython",
    "version": 3
   },
   "file_extension": ".py",
   "mimetype": "text/x-python",
   "name": "python",
   "nbconvert_exporter": "python",
   "pygments_lexer": "ipython3",
   "version": "3.11.4"
  }
 },
 "nbformat": 4,
 "nbformat_minor": 5
}
